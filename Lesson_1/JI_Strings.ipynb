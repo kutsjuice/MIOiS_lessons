{
 "cells": [
  {
   "cell_type": "markdown",
   "id": "74f69a62",
   "metadata": {},
   "source": [
    "# Объявление строк"
   ]
  },
  {
   "cell_type": "markdown",
   "id": "8e41e2aa",
   "metadata": {},
   "source": [
    "Объявление строк в **Julia** осуществляется путем заключения в кавычки ```\"bla\"``` или ```\"\"\"blabla\"\"\"```"
   ]
  },
  {
   "cell_type": "code",
   "execution_count": 8,
   "id": "1c3dde16",
   "metadata": {},
   "outputs": [
    {
     "data": {
      "text/plain": [
       "\"Это простая строка\""
      ]
     },
     "execution_count": 8,
     "metadata": {},
     "output_type": "execute_result"
    }
   ],
   "source": [
    "s1 = \"Это простая строка\""
   ]
  },
  {
   "cell_type": "code",
   "execution_count": 4,
   "id": "56c1a0b3",
   "metadata": {},
   "outputs": [
    {
     "data": {
      "text/plain": [
       "String"
      ]
     },
     "execution_count": 4,
     "metadata": {},
     "output_type": "execute_result"
    }
   ],
   "source": [
    "s2 = \"\"\"Это тоже строка\"\"\"\n",
    "typeof(s2)"
   ]
  },
  {
   "cell_type": "markdown",
   "id": "0de3675d",
   "metadata": {},
   "source": [
    "Между ними есть есть несколько различий. Одно из них заключается в использовании кавычечек внутри таких строк, а другое в переносах строк"
   ]
  },
  {
   "cell_type": "code",
   "execution_count": 9,
   "id": "3542e993",
   "metadata": {},
   "outputs": [
    {
     "data": {
      "text/plain": [
       "\"Здесь мы получим \\\"ошибку\\\", поскольку так нельзя делать\""
      ]
     },
     "execution_count": 9,
     "metadata": {},
     "output_type": "execute_result"
    }
   ],
   "source": [
    "\"Здесь мы получим \\\"ошибку\\\", поскольку так нельзя делать\""
   ]
  },
  {
   "cell_type": "code",
   "execution_count": 6,
   "id": "35b4f2ce",
   "metadata": {},
   "outputs": [
    {
     "data": {
      "text/plain": [
       "\" А в данной строке \\n\\n\\\"ошибок\\\" нет\""
      ]
     },
     "execution_count": 6,
     "metadata": {},
     "output_type": "execute_result"
    }
   ],
   "source": [
    "\"\"\" А в данной строке \n",
    "\n",
    "\"ошибок\" нет\"\"\""
   ]
  },
  {
   "cell_type": "markdown",
   "id": "e26c7329",
   "metadata": {},
   "source": [
    "Одинарные кавычки служат для определения символа ```Char```"
   ]
  },
  {
   "cell_type": "code",
   "execution_count": 10,
   "id": "69d5b557",
   "metadata": {},
   "outputs": [
    {
     "data": {
      "text/plain": [
       "Char"
      ]
     },
     "execution_count": 10,
     "metadata": {},
     "output_type": "execute_result"
    }
   ],
   "source": [
    "typeof('a')"
   ]
  },
  {
   "cell_type": "code",
   "execution_count": 11,
   "id": "603b5bcc",
   "metadata": {},
   "outputs": [
    {
     "ename": "LoadError",
     "evalue": "syntax: character literal contains multiple characters",
     "output_type": "error",
     "traceback": [
      "syntax: character literal contains multiple characters",
      "",
      "Stacktrace:",
      " [1] top-level scope",
      "   @ In[11]:1",
      " [2] eval",
      "   @ .\\boot.jl:360 [inlined]",
      " [3] include_string(mapexpr::typeof(REPL.softscope), mod::Module, code::String, filename::String)",
      "   @ Base .\\loading.jl:1116"
     ]
    }
   ],
   "source": [
    "'fjsnjfdsf'"
   ]
  },
  {
   "cell_type": "markdown",
   "id": "5ed43e29",
   "metadata": {},
   "source": [
    "# Интерполяция строк"
   ]
  },
  {
   "cell_type": "markdown",
   "id": "416da285",
   "metadata": {},
   "source": [
    "Под интерполяцией строк имеется ввиду выполнения участков кода внутри строки. Интерполяция в **Julia** осуществляется при помощи ```$```. Таким образом можно выводить некоторые персонифицированные данные"
   ]
  },
  {
   "cell_type": "code",
   "execution_count": 13,
   "id": "c54db45a",
   "metadata": {},
   "outputs": [
    {
     "name": "stdout",
     "output_type": "stream",
     "text": [
      "В группе ИБМ3-12(м) учится 6 человек. Всего в аудитории находится 8 человек.\n"
     ]
    }
   ],
   "source": [
    "group = \"ИБМ3-12(м)\";\n",
    "students_num = 6;\n",
    "\n",
    "println(\"В группе $group учится $students_num человек. Всего в аудитории находится $(students_num+2) человек.\")"
   ]
  },
  {
   "cell_type": "code",
   "execution_count": 18,
   "id": "6c36ab3b",
   "metadata": {},
   "outputs": [
    {
     "data": {
      "text/plain": [
       "\"https://github.com/kutsjuice/MIOiS_lessons\""
      ]
     },
     "execution_count": 18,
     "metadata": {},
     "output_type": "execute_result"
    }
   ],
   "source": [
    "\"https://github.com/kutsjuice/MIOiS_lessons\""
   ]
  },
  {
   "cell_type": "markdown",
   "id": "b15b7aaa",
   "metadata": {},
   "source": [
    "# Объединение строк"
   ]
  },
  {
   "cell_type": "markdown",
   "id": "4d9c3772",
   "metadata": {},
   "source": [
    "Первый способ - использование функции ```string()```. Функция ```string()``` преобразует все аргументы в строку, объединяя их при необходимости "
   ]
  },
  {
   "cell_type": "code",
   "execution_count": 20,
   "id": "cd03cd83",
   "metadata": {},
   "outputs": [
    {
     "data": {
      "text/plain": [
       "\"Cколько нужно орехов, чтобы получилась куча?\""
      ]
     },
     "execution_count": 20,
     "metadata": {},
     "output_type": "execute_result"
    }
   ],
   "source": [
    "string( \"Cколько нужно орехов,\",\" чтобы получилась куча?\")"
   ]
  },
  {
   "cell_type": "code",
   "execution_count": 21,
   "id": "f28cc25d",
   "metadata": {},
   "outputs": [
    {
     "data": {
      "text/plain": [
       "\"Не знаю, но 2 ореха - это не куча!\""
      ]
     },
     "execution_count": 21,
     "metadata": {},
     "output_type": "execute_result"
    }
   ],
   "source": [
    "string(\"Не знаю, но \", 2, \" ореха - это не куча!\")"
   ]
  },
  {
   "cell_type": "markdown",
   "id": "b64712dc",
   "metadata": {},
   "source": [
    "Так же можно использовать оператор ```*``` для объединения строк"
   ]
  },
  {
   "cell_type": "code",
   "execution_count": 22,
   "id": "7965930c",
   "metadata": {},
   "outputs": [
    {
     "data": {
      "text/plain": [
       "\"Cколько нужно орехов, чтобы получилась куча?\""
      ]
     },
     "execution_count": 22,
     "metadata": {},
     "output_type": "execute_result"
    }
   ],
   "source": [
    "s1 = \"Cколько нужно орехов,\";\n",
    "s2 = \" чтобы получилась куча?\"\n",
    "s1*s2"
   ]
  },
  {
   "cell_type": "markdown",
   "id": "47de5158",
   "metadata": {},
   "source": [
    "Так же можно воспользоватся интерполяцией строк"
   ]
  },
  {
   "cell_type": "code",
   "execution_count": 23,
   "id": "ddde2325",
   "metadata": {},
   "outputs": [
    {
     "data": {
      "text/plain": [
       "\"Cколько нужно орехов, чтобы получилась куча?\""
      ]
     },
     "execution_count": 23,
     "metadata": {},
     "output_type": "execute_result"
    }
   ],
   "source": [
    "\"$s1$s2\""
   ]
  },
  {
   "cell_type": "markdown",
   "id": "87184946",
   "metadata": {},
   "source": [
    "Кроме того, для строковых переменных определена операция ```^n```, которая копирует строку *n* раз"
   ]
  },
  {
   "cell_type": "code",
   "execution_count": 24,
   "id": "3360e6dc",
   "metadata": {},
   "outputs": [
    {
     "data": {
      "text/plain": [
       "\"Cколько нужно орехов, чтобы получилась куча? чтобы получилась куча? чтобы получилась куча?\""
      ]
     },
     "execution_count": 24,
     "metadata": {},
     "output_type": "execute_result"
    }
   ],
   "source": [
    "s1*s2^3"
   ]
  },
  {
   "cell_type": "code",
   "execution_count": 25,
   "id": "8845106f",
   "metadata": {},
   "outputs": [
    {
     "name": "stdout",
     "output_type": "stream",
     "text": [
      "\"Ау!\" — крикнул Юра. \"Ау!Ау!Ау!\" — отозвалось из лесной дали.\n"
     ]
    }
   ],
   "source": [
    "s3 = \"Ау!\"\n",
    "println(\"\\\"$s3\\\" — крикнул Юра. \\\"$(s3^3)\\\" — отозвалось из лесной дали.\");"
   ]
  },
  {
   "cell_type": "code",
   "execution_count": null,
   "id": "ce4588e2",
   "metadata": {},
   "outputs": [],
   "source": []
  }
 ],
 "metadata": {
  "kernelspec": {
   "display_name": "Julia 1.6.2",
   "language": "julia",
   "name": "julia-1.6"
  },
  "language_info": {
   "file_extension": ".jl",
   "mimetype": "application/julia",
   "name": "julia",
   "version": "1.6.2"
  }
 },
 "nbformat": 4,
 "nbformat_minor": 5
}
