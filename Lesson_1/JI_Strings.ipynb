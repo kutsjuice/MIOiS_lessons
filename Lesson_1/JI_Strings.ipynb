{
 "cells": [
  {
   "cell_type": "code",
   "execution_count": 1,
   "id": "ea39ca87-d2f2-4997-b01f-24e5554b1f3b",
   "metadata": {},
   "outputs": [
    {
     "data": {
      "text/plain": [
       "\"Это простая строка\""
      ]
     },
     "execution_count": 1,
     "metadata": {},
     "output_type": "execute_result"
    }
   ],
   "source": [
    "s1 = \"Это простая строка\""
   ]
  },
  {
   "cell_type": "code",
   "execution_count": 2,
   "id": "24c96476-d5eb-43d6-bad9-60a70e0dc361",
   "metadata": {},
   "outputs": [
    {
     "data": {
      "text/plain": [
       "\"Это тоже строка\""
      ]
     },
     "execution_count": 2,
     "metadata": {},
     "output_type": "execute_result"
    }
   ],
   "source": [
    "s2 = \"\"\"Это тоже строка\"\"\""
   ]
  },
  {
   "cell_type": "code",
   "execution_count": 3,
   "id": "31a96090-f5fc-4ec3-92cc-ae301d45aa00",
   "metadata": {},
   "outputs": [
    {
     "ename": "LoadError",
     "evalue": "syntax: cannot juxtapose string literal",
     "output_type": "error",
     "traceback": [
      "syntax: cannot juxtapose string literal",
      "",
      "Stacktrace:",
      " [1] top-level scope",
      "   @ In[3]:1",
      " [2] eval",
      "   @ .\\boot.jl:360 [inlined]",
      " [3] include_string(mapexpr::typeof(REPL.softscope), mod::Module, code::String, filename::String)",
      "   @ Base .\\loading.jl:1116"
     ]
    }
   ],
   "source": [
    "\"Здесь мы получим \"ошибку\", поскольку так нельзя делать\""
   ]
  },
  {
   "cell_type": "code",
   "execution_count": 8,
   "id": "240fff82-6675-40c0-b135-cecf0ac040d8",
   "metadata": {},
   "outputs": [
    {
     "data": {
      "text/plain": [
       "\" А в данной строке \\n\\n\\\"ошибок\\\" нет\""
      ]
     },
     "execution_count": 8,
     "metadata": {},
     "output_type": "execute_result"
    }
   ],
   "source": [
    "\"\"\" А в данной строке \n",
    "\n",
    "\"ошибок\" нет\"\"\""
   ]
  },
  {
   "cell_type": "code",
   "execution_count": null,
   "id": "98c19ea7-dc48-4818-ab4a-9b38927445ec",
   "metadata": {},
   "outputs": [],
   "source": []
  },
  {
   "cell_type": "code",
   "execution_count": 6,
   "id": "33c3f03b-c785-4921-904c-b57c8611b939",
   "metadata": {},
   "outputs": [
    {
     "data": {
      "text/plain": [
       "Char"
      ]
     },
     "execution_count": 6,
     "metadata": {},
     "output_type": "execute_result"
    }
   ],
   "source": [
    "typeof('a')"
   ]
  },
  {
   "cell_type": "code",
   "execution_count": 7,
   "id": "04664952-3827-4866-9d6e-532006630bd0",
   "metadata": {},
   "outputs": [
    {
     "ename": "LoadError",
     "evalue": "syntax: character literal contains multiple characters",
     "output_type": "error",
     "traceback": [
      "syntax: character literal contains multiple characters",
      "",
      "Stacktrace:",
      " [1] top-level scope",
      "   @ In[7]:1",
      " [2] eval",
      "   @ .\\boot.jl:360 [inlined]",
      " [3] include_string(mapexpr::typeof(REPL.softscope), mod::Module, code::String, filename::String)",
      "   @ Base .\\loading.jl:1116"
     ]
    }
   ],
   "source": [
    "'fjsnjfdsf'"
   ]
  }
 ],
 "metadata": {
  "kernelspec": {
   "display_name": "Julia 1.6.2",
   "language": "julia",
   "name": "julia-1.6"
  },
  "language_info": {
   "file_extension": ".jl",
   "mimetype": "application/julia",
   "name": "julia",
   "version": "1.6.2"
  }
 },
 "nbformat": 4,
 "nbformat_minor": 5
}
