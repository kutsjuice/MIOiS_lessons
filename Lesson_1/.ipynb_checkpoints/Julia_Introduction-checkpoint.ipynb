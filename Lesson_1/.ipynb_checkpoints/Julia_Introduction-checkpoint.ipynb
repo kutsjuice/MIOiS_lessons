{
 "cells": [
  {
   "cell_type": "markdown",
   "id": "425def06",
   "metadata": {
    "tags": []
   },
   "source": [
    "# Вывод на печать\n"
   ]
  },
  {
   "cell_type": "markdown",
   "id": "5bbecaca",
   "metadata": {},
   "source": [
    "Для вывода на печать имеются две функции \n",
    "```println()``` и ```print()```."
   ]
  },
  {
   "cell_type": "code",
   "execution_count": null,
   "id": "06c4365b",
   "metadata": {},
   "outputs": [],
   "source": [
    "println(\"Привет, Мир!\");\n",
    "println(\"Привет, Мир!\");"
   ]
  },
  {
   "cell_type": "code",
   "execution_count": null,
   "id": "d2be8f0f",
   "metadata": {},
   "outputs": [],
   "source": [
    "print(\"Привет, Мир!\");\n",
    "print(\"Привет, Мир!\");"
   ]
  },
  {
   "cell_type": "markdown",
   "id": "bc72c40d",
   "metadata": {},
   "source": [
    "Перенос строки можно сделать и вручную, путем добавления символа переноса каретки ```\\n```"
   ]
  },
  {
   "cell_type": "code",
   "execution_count": null,
   "id": "73978fcb",
   "metadata": {},
   "outputs": [],
   "source": [
    "print(\"Привет, Мир!\\n\");\n",
    "print(\"Привет, Мир!\");"
   ]
  },
  {
   "cell_type": "markdown",
   "id": "d6268d36",
   "metadata": {
    "tags": []
   },
   "source": [
    "# Объявление переменных"
   ]
  },
  {
   "cell_type": "markdown",
   "id": "b0676458",
   "metadata": {},
   "source": [
    "В **Julia** приминяется динамическая типизация, поэтому нет необходимости объявлять типы переменных. Все что нужно - дать переменной имя и присвоть значение при помощи операции присваивания (знак ```=```)"
   ]
  },
  {
   "cell_type": "code",
   "execution_count": null,
   "id": "ef4a028b",
   "metadata": {},
   "outputs": [],
   "source": [
    "answer_on_THE_question = 42;\n",
    "typeof(answer_on_THE_question)"
   ]
  },
  {
   "cell_type": "markdown",
   "id": "88e54b9a",
   "metadata": {},
   "source": [
    "В **Julia** встроенная поддержка Unicode, поэтому можно использовать символы не только на латинице"
   ]
  },
  {
   "cell_type": "code",
   "execution_count": null,
   "id": "32980536",
   "metadata": {},
   "outputs": [],
   "source": [
    "число_пи = 3.14159265;\n",
    "typeof(число_пи)"
   ]
  },
  {
   "cell_type": "code",
   "execution_count": null,
   "id": "acce5b5f",
   "metadata": {},
   "outputs": [],
   "source": [
    "Այբուբենը = \"Алфавит\""
   ]
  },
  {
   "cell_type": "markdown",
   "id": "e175d012",
   "metadata": {},
   "source": [
    "И даже больше - в Unicode определены не только символы Алфавита"
   ]
  },
  {
   "cell_type": "code",
   "execution_count": null,
   "id": "7f982814",
   "metadata": {},
   "outputs": [],
   "source": [
    "😸 = \"Кот Фёдор\";\n",
    "typeof(😸)"
   ]
  },
  {
   "cell_type": "markdown",
   "id": "9dda8e2f",
   "metadata": {},
   "source": [
    "В ```Julia``` доступна автозамена по клавише ```<tab>```. Для этого необходимо ввести название Unicode символа и нажать ```<tab>```\n",
    "Также работает режим подсказки - необходимо начать вводить название переменной, после чего нажать ```<tab>``` и появится список переменных.\n",
    "Подсказка работает и со смайликами: достаточно начать вводить ```\\:smi``` и нажать ```<tab>``` и появится список с доступными символами-смайликами."
   ]
  },
  {
   "cell_type": "code",
   "execution_count": null,
   "id": "7a974cdd",
   "metadata": {},
   "outputs": [],
   "source": []
  },
  {
   "cell_type": "markdown",
   "id": "0f932f6f",
   "metadata": {},
   "source": [
    " После объявления переменной мы можем переопределить переменную с другим типом"
   ]
  },
  {
   "cell_type": "code",
   "execution_count": null,
   "id": "cd0fd083",
   "metadata": {},
   "outputs": [],
   "source": [
    "😸 = 1;"
   ]
  },
  {
   "cell_type": "markdown",
   "id": "ccb66a50",
   "metadata": {},
   "source": [
    "**Julia** позволяет писать супер-интуитивно-понятный код, примером чего является 😸. Это позволяет писать код вроде такого:"
   ]
  },
  {
   "cell_type": "code",
   "execution_count": null,
   "id": "4d58ad72",
   "metadata": {},
   "outputs": [],
   "source": [
    "😞 = -1;"
   ]
  },
  {
   "cell_type": "code",
   "execution_count": null,
   "id": "c8d22daf",
   "metadata": {},
   "outputs": [],
   "source": [
    "😄 = 0;"
   ]
  },
  {
   "cell_type": "code",
   "execution_count": null,
   "id": "5dd6c52c",
   "metadata": {},
   "outputs": [],
   "source": [
    "😞 + 😸 == 😄"
   ]
  },
  {
   "cell_type": "markdown",
   "id": "2dbb95c4",
   "metadata": {},
   "source": [
    "# Комментирование кода"
   ]
  },
  {
   "cell_type": "code",
   "execution_count": null,
   "id": "c08cab27",
   "metadata": {},
   "outputs": [],
   "source": [
    "# это однострочный комментарий"
   ]
  },
  {
   "cell_type": "code",
   "execution_count": null,
   "id": "b91d5e4f",
   "metadata": {},
   "outputs": [],
   "source": [
    "#=\n",
    "\n",
    "Это многострочный\n",
    "комментарий\n",
    "\n",
    "=#"
   ]
  },
  {
   "cell_type": "markdown",
   "id": "08d31b61",
   "metadata": {},
   "source": [
    "# Базовые математические операции"
   ]
  },
  {
   "cell_type": "code",
   "execution_count": null,
   "id": "f0773540",
   "metadata": {},
   "outputs": [],
   "source": [
    "sum = 3 + 7"
   ]
  },
  {
   "cell_type": "code",
   "execution_count": null,
   "id": "faf29bf2",
   "metadata": {},
   "outputs": [],
   "source": [
    "dif = 3 - 7"
   ]
  },
  {
   "cell_type": "code",
   "execution_count": null,
   "id": "ab655eae",
   "metadata": {},
   "outputs": [],
   "source": [
    "mul = 20 * 2"
   ]
  },
  {
   "cell_type": "code",
   "execution_count": null,
   "id": "22ac7dcc",
   "metadata": {},
   "outputs": [],
   "source": [
    "div = 9/3"
   ]
  },
  {
   "cell_type": "code",
   "execution_count": null,
   "id": "fe795b07",
   "metadata": {},
   "outputs": [],
   "source": [
    "pow = -2^7"
   ]
  },
  {
   "cell_type": "code",
   "execution_count": null,
   "id": "13f7d658",
   "metadata": {},
   "outputs": [],
   "source": [
    "mod = 17 % 5"
   ]
  },
  {
   "cell_type": "markdown",
   "id": "f4069a24",
   "metadata": {},
   "source": [
    "# Преобразование типов"
   ]
  },
  {
   "cell_type": "code",
   "execution_count": null,
   "id": "7a82ea8e",
   "metadata": {},
   "outputs": [],
   "source": [
    "a = 3.0\n",
    "b = Integer(a)"
   ]
  },
  {
   "cell_type": "code",
   "execution_count": null,
   "id": "34ffa884",
   "metadata": {},
   "outputs": [],
   "source": [
    "b = convert(Integer, a)"
   ]
  },
  {
   "cell_type": "code",
   "execution_count": null,
   "id": "7881f49c",
   "metadata": {},
   "outputs": [],
   "source": [
    "three = \"3\"\n",
    "convert(Int64, three)"
   ]
  },
  {
   "cell_type": "code",
   "execution_count": null,
   "id": "3970f7d7",
   "metadata": {},
   "outputs": [],
   "source": [
    "parse(Int64, three)"
   ]
  },
  {
   "cell_type": "markdown",
   "id": "f5338e42",
   "metadata": {},
   "source": [
    "# Справка"
   ]
  },
  {
   "cell_type": "markdown",
   "id": "92ca53a5",
   "metadata": {},
   "source": [
    "В **Julia** справка к функциям и модулям доступна при помощи ```?```"
   ]
  },
  {
   "cell_type": "code",
   "execution_count": null,
   "id": "7f6815a0",
   "metadata": {},
   "outputs": [],
   "source": [
    "?"
   ]
  },
  {
   "cell_type": "markdown",
   "id": "0543e5b2",
   "metadata": {},
   "source": [
    "# Упражнение 1.\n",
    "Объявите переменную ```days``` и присвойте ей значение 365. Конвертируйте значение ```days``` в тип с плавющей точкой и присвойте его значение переменное ```days_float```"
   ]
  },
  {
   "cell_type": "code",
   "execution_count": null,
   "id": "796817d1",
   "metadata": {},
   "outputs": [],
   "source": [
    "days = \n",
    "days_float = "
   ]
  },
  {
   "cell_type": "code",
   "execution_count": null,
   "id": "8d41ed7d",
   "metadata": {},
   "outputs": [],
   "source": [
    "@assert days == 365\n",
    "@assert days_float == 365.0"
   ]
  },
  {
   "cell_type": "markdown",
   "id": "5a3a44d7",
   "metadata": {},
   "source": [
    "# Упражнение 1.\n",
    "Определите $cos$ угла $\\alpha = 30 ^\\circ$"
   ]
  },
  {
   "cell_type": "code",
   "execution_count": null,
   "id": "c973e371",
   "metadata": {},
   "outputs": [],
   "source": [
    "α ="
   ]
  },
  {
   "cell_type": "code",
   "execution_count": null,
   "id": "fc5e5574",
   "metadata": {},
   "outputs": [],
   "source": []
  }
 ],
 "metadata": {
  "kernelspec": {
   "display_name": "Julia 1.6.2",
   "language": "julia",
   "name": "julia-1.6"
  },
  "language_info": {
   "file_extension": ".jl",
   "mimetype": "application/julia",
   "name": "julia",
   "version": "1.6.2"
  }
 },
 "nbformat": 4,
 "nbformat_minor": 5
}
