{
 "cells": [
  {
   "cell_type": "markdown",
   "metadata": {},
   "source": [
    "# Построение графиков\n",
    "\n",
    "## Основы\n",
    "В Julia предусмотрены несколько различных путей для построения графиков. <br>\n",
    "\n",
    "В данном уроке мы познакомимся как использовать модуль `Plots.jl`.  "
   ]
  },
  {
   "cell_type": "markdown",
   "metadata": {},
   "source": [
    "Вы можете проверить установлен ли модуль `Plots.jl` просто выполнив"
   ]
  },
  {
   "cell_type": "code",
   "execution_count": null,
   "metadata": {},
   "outputs": [],
   "source": [
    "using Plots"
   ]
  },
  {
   "cell_type": "markdown",
   "metadata": {},
   "source": [
    "Если он еще не установлен, вы можете использовать пакетный менеджер для его установки и Julia пре-компилирует его при первой попытке использовать:"
   ]
  },
  {
   "cell_type": "code",
   "execution_count": null,
   "metadata": {},
   "outputs": [],
   "source": [
    "using Pkg\n",
    "Pkg.add(\"Plots\")\n",
    "using Plots"
   ]
  },
  {
   "cell_type": "markdown",
   "metadata": {},
   "source": [
    "Преимущество `Plots.jl` заключается в том, что вы можете плавно имзенить бэкенд. В этом блокноте мы попробуем использовать бэкенды `gr()` и `plotlyjs()`.<br>\n",
    "\n",
    "С целью развития науки, давайте исследуем зависимость глобальной температуры от количества пиратов в промежутке между 1860 и 2000 годами."
   ]
  },
  {
   "cell_type": "code",
   "execution_count": null,
   "metadata": {},
   "outputs": [],
   "source": [
    "globaltemperatures = [14.4, 14.5, 14.8, 15.2, 15.5, 15.8]\n",
    "numpirates = [45000, 20000, 15000, 5000, 400, 17];"
   ]
  },
  {
   "cell_type": "markdown",
   "metadata": {},
   "source": [
    "Как уже было отмечено, в *Julia* построение графиков осуществимо при помощи нескольких различных бэкендов — библиотек, который в действительности занимаются отрисовкой графиков через одинаковый интерфейс доступа к ним. Чтобы начать, давайте попробуем бэкенд GR. Вы можете выбрать его просто вызвав `gr()`:"
   ]
  },
  {
   "cell_type": "code",
   "execution_count": null,
   "metadata": {},
   "outputs": [],
   "source": [
    "gr()"
   ]
  },
  {
   "cell_type": "markdown",
   "metadata": {},
   "source": [
    "после чего можете использовать такие функциии, как `plot` и `scatter` для построения графиков."
   ]
  },
  {
   "cell_type": "code",
   "execution_count": null,
   "metadata": {},
   "outputs": [],
   "source": [
    "plot(numpirates, globaltemperatures, label=\"line\")  \n",
    "scatter!(numpirates, globaltemperatures, label=\"points\") "
   ]
  },
  {
   "cell_type": "markdown",
   "metadata": {},
   "source": [
    "`!` в названии функции `scatter!` говорит о том, что `scatter!`  - мутирующая функция, что ознаает, что точки новые данные будут добавлены на холст.\n",
    "\n",
    "Для сравнения, посмотрите что случится, если заменить `scatter!` на немутирующую функцию `scatter`.\n",
    "\n",
    "Далее, давайте обновим наш холст, добавив к нему подписи осей и заголовок при помощи функций `xlabel!`, `ylabel!`, и `title!`."
   ]
  },
  {
   "cell_type": "code",
   "execution_count": null,
   "metadata": {},
   "outputs": [],
   "source": [
    "xlabel!(\"Суммарное число пиратов [приближенно]\")\n",
    "ylabel!(\"Глобальная температура (C°)\")\n",
    "title!(\"Влияние пиратов на глобальную температуру\")"
   ]
  },
  {
   "cell_type": "markdown",
   "metadata": {},
   "source": [
    "Однако, он все еще выглядит не очень наглядно. Число пиратов уменьшается с 1860 годов, так что читать график слева направо - словно смотреть назад в прошлое. Поэтому давайте развернем ось Х, что бы было проще увидеть, как численность пиратов влияла на глобальное потепление в течение времени!"
   ]
  },
  {
   "cell_type": "code",
   "execution_count": null,
   "metadata": {},
   "outputs": [],
   "source": [
    "xflip!()"
   ]
  },
  {
   "cell_type": "markdown",
   "metadata": {},
   "source": [
    "**Теперь, не изменяя кода, мы можем изменить то, как график отрисовывается заменив бэкенд на UnicodePlots**"
   ]
  },
  {
   "cell_type": "code",
   "execution_count": null,
   "metadata": {},
   "outputs": [],
   "source": [
    "using Pkg\n",
    "Pkg.add(\"PlotlyJS\")\n",
    "unicodeplots()"
   ]
  },
  {
   "cell_type": "code",
   "execution_count": null,
   "metadata": {},
   "outputs": [],
   "source": [
    "plot(numpirates, globaltemperatures, label=\"line\")  \n",
    "scatter!(numpirates, globaltemperatures, label=\"points\") \n",
    "xlabel!(\"Суммарное число пиратов [приближенно]\")\n",
    "ylabel!(\"Глобальная температура (C°)\")\n",
    "title!(\"Влияние пиратов на глобальную температуру\")"
   ]
  },
  {
   "cell_type": "markdown",
   "metadata": {},
   "source": [
    "And notice how this second plot differs from the first!  Using text like this is a little silly in a Jupyter notebook where we have fancy drawing capabilities, but it can be very useful for quick and dirty visualization in a terminal."
   ]
  },
  {
   "cell_type": "markdown",
   "metadata": {},
   "source": [
    "### Упражнения\n",
    "\n",
    "#### 8.1 \n",
    "Дано\n",
    "```julia\n",
    "x = -10:10\n",
    "```\n",
    "Постройте график $y = x^2$.  Используйте бэкенд `gr()`."
   ]
  },
  {
   "cell_type": "code",
   "execution_count": null,
   "metadata": {},
   "outputs": [],
   "source": []
  },
  {
   "cell_type": "markdown",
   "metadata": {},
   "source": [
    "#### 8.2\n",
    "Установите бэкенд `plotlyjs()` и постройте график с его помощью"
   ]
  },
  {
   "cell_type": "code",
   "execution_count": null,
   "metadata": {},
   "outputs": [],
   "source": []
  },
  {
   "cell_type": "markdown",
   "metadata": {},
   "source": [
    "#### 8.3 \n",
    "Выполните следующий код"
   ]
  },
  {
   "cell_type": "code",
   "execution_count": null,
   "metadata": {},
   "outputs": [],
   "source": [
    "p1 = plot(x, x)\n",
    "p2 = plot(x, x.^2)\n",
    "p3 = plot(x, x.^3)\n",
    "p4 = plot(x, x.^4)\n",
    "plot(p1, p2, p3, p4, layout = (2, 2), legend = false)"
   ]
  },
  {
   "cell_type": "markdown",
   "metadata": {},
   "source": [
    "and then create a $4x1$ plot that uses `p1`, `p2`, `p3`, and `p4` as subplots."
   ]
  },
  {
   "cell_type": "code",
   "execution_count": null,
   "metadata": {},
   "outputs": [],
   "source": []
  }
 ],
 "metadata": {
  "anaconda-cloud": {},
  "kernelspec": {
   "display_name": "Julia 1.6.2",
   "language": "julia",
   "name": "julia-1.6"
  },
  "language_info": {
   "file_extension": ".jl",
   "mimetype": "application/julia",
   "name": "julia",
   "version": "1.6.2"
  },
  "toc": {
   "nav_menu": {
    "height": "66px",
    "width": "252px"
   },
   "navigate_menu": true,
   "number_sections": true,
   "sideBar": true,
   "threshold": "2",
   "toc_cell": false,
   "toc_section_display": "block",
   "toc_window_display": false
  }
 },
 "nbformat": 4,
 "nbformat_minor": 4
}
