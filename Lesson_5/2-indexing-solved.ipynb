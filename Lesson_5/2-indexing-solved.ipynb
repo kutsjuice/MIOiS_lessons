{
 "cells": [
  {
   "cell_type": "markdown",
   "metadata": {},
   "source": [
    "# Индексация\n",
    "В Julia индексами чаще всего являются целые числа. Для обращения по заданному индексу используется команда `[]`."
   ]
  },
  {
   "cell_type": "code",
   "execution_count": 2,
   "metadata": {},
   "outputs": [
    {
     "data": {
      "text/plain": [
       "2×4 Matrix{Int64}:\n",
       "  1  8  4  2\n",
       " -4  2  3  5"
      ]
     },
     "metadata": {},
     "output_type": "display_data"
    }
   ],
   "source": [
    "A = [1 8 4 2; \n",
    "     -4 2 3 5]"
   ]
  },
  {
   "cell_type": "markdown",
   "metadata": {},
   "source": [
    "Команда `A[1, 2]` вернёт элемент `A`, который находится в первой строке, во втором столбце.\n",
    "\n"
   ]
  },
  {
   "cell_type": "code",
   "execution_count": 5,
   "metadata": {},
   "outputs": [
    {
     "data": {
      "text/plain": [
       "8"
      ]
     },
     "metadata": {},
     "output_type": "display_data"
    }
   ],
   "source": [
    "A[1, 2]"
   ]
  },
  {
   "cell_type": "markdown",
   "metadata": {},
   "source": [
    "Но индексами могут быть не только целые числа. Допустим, мы хотим обратиться к элементам `A`, стоящим во второй строке в 3 и в 4 столбцах. Тогда в качестве индекса можно использовать вектор `[3, 4]`(аналогичная фича есть в Matlab)."
   ]
  },
  {
   "cell_type": "code",
   "execution_count": 6,
   "metadata": {},
   "outputs": [
    {
     "data": {
      "text/plain": [
       "2-element Vector{Int64}:\n",
       " 3\n",
       " 5"
      ]
     },
     "metadata": {},
     "output_type": "display_data"
    }
   ],
   "source": [
    "A[2, [3, 4]]"
   ]
  },
  {
   "cell_type": "markdown",
   "metadata": {},
   "source": [
    "Также к элементам массива можно обращаться, используя последовательности. Команда `A[2, 1:3]` вернёт элементы матрицы `A` из второй строки из столбцов с 1 по 3."
   ]
  },
  {
   "cell_type": "code",
   "execution_count": 8,
   "metadata": {},
   "outputs": [
    {
     "data": {
      "text/plain": [
       "3-element Vector{Int64}:\n",
       " -4\n",
       "  2\n",
       "  3"
      ]
     },
     "metadata": {},
     "output_type": "display_data"
    }
   ],
   "source": [
    "A[2, 1:3]"
   ]
  },
  {
   "cell_type": "markdown",
   "metadata": {},
   "source": [
    "Можно сочетать вектор и последовательность. Команда `A[2, [1:2; 4]]` вернет элементы из второй строки, из столбцов с первого по второй и из четвёртого."
   ]
  },
  {
   "cell_type": "code",
   "execution_count": 12,
   "metadata": {},
   "outputs": [
    {
     "data": {
      "text/plain": [
       "3-element Vector{Int64}:\n",
       " -4\n",
       "  2\n",
       "  5"
      ]
     },
     "metadata": {},
     "output_type": "display_data"
    }
   ],
   "source": [
    "A[2, [1:2; 4]]"
   ]
  },
  {
   "cell_type": "markdown",
   "metadata": {},
   "source": [
    "### Упражнение 1\n",
    "Задайте матрицу `A`, размером 100х100. Элементы в первых 50 столбцах и в столбцах с 75 по 80 должны быть равны 1. В остальных столбцах в строках с 20 по 30 должны находится 2, а в строках 71, 75, 79 должны находится 3. Остальные элементы должны быть равны 0."
   ]
  },
  {
   "cell_type": "code",
   "execution_count": 13,
   "metadata": {},
   "outputs": [
    {
     "data": {
      "text/plain": [
       "100×100 Matrix{Float64}:\n",
       " 6.92196e-315  6.92196e-315  6.92197e-315  …  0.0             2.29594e-315\n",
       " 2.122e-314    8.48798e-314  0.0              6.90208e-315    0.0\n",
       " 6.92206e-315  6.92197e-315  6.92197e-315     6.90208e-315    4.585e-321\n",
       " 2.122e-314    2.122e-314    8.48798e-314     6.90208e-315    2.28595e-315\n",
       " 6.92206e-315  6.92197e-315  6.92205e-315     6.90208e-315    5.0e-324\n",
       " 2.122e-314    2.122e-314    2.122e-314    …  6.90208e-315  NaN\n",
       " 6.92206e-315  1.09513e-315  6.92197e-315     6.90208e-315    2.29594e-315\n",
       " 2.122e-314    1.09078e-315  2.122e-314       6.92235e-315  NaN\n",
       " 6.92196e-315  1.09513e-315  6.92197e-315     1.6976e-313   NaN\n",
       " 8.48798e-314  8.17248e-316  2.122e-314       6.79e-321     NaN\n",
       " ⋮                                         ⋱                \n",
       " 4.24399e-314  0.0           0.0              4.64617e-307    0.0\n",
       " 6.36599e-314  3.25939e-311  5.0e-324         6.91399e-315    3.206e-321\n",
       " 0.0           4.24399e-314  0.0              6.93075e-315    2.28595e-315\n",
       " 0.0           2.122e-313    3.531e-311       2.29594e-315    5.0e-324\n",
       " 0.0           0.0           4.24399e-314  …  0.0             1.714e-321\n",
       " 6.17831e-315  0.0           2.97079e-313     4.68e-321       2.29592e-315\n",
       " 0.0           0.0           0.0              2.28595e-315    0.0\n",
       " 6.92196e-315  6.1788e-315   0.0              5.0e-324        3.11e-321\n",
       " 0.0           0.0           0.0              3.62e-321     NaN"
      ]
     },
     "metadata": {},
     "output_type": "display_data"
    }
   ],
   "source": [
    "A = Matrix{Float64}(undef, 100, 100)"
   ]
  },
  {
   "cell_type": "markdown",
   "metadata": {},
   "source": [
    "### Упражнение 2\n",
    "Задайте матрицу A 20x20, состоящую из случайных целых чисел от 8 до 25. Используя логическую индексацию, все чётные элементы в этой матрице уменьшите в 2 раза. Все элементы, большие 20 задайте равными 0. В VisualStudio Code, если наведёте мышкой на функцию rand, то получите подсказку, как она работает."
   ]
  },
  {
   "cell_type": "code",
   "execution_count": 17,
   "metadata": {},
   "outputs": [
    {
     "data": {
      "text/plain": [
       "0.7423537709814593"
      ]
     },
     "metadata": {},
     "output_type": "display_data"
    }
   ],
   "source": [
    "A = rand()"
   ]
  }
 ],
 "metadata": {
  "kernelspec": {
   "display_name": "Julia 1.8.2",
   "language": "julia",
   "name": "julia-1.8"
  },
  "language_info": {
   "file_extension": ".jl",
   "mimetype": "application/julia",
   "name": "julia",
   "version": "1.8.2"
  },
  "orig_nbformat": 4
 },
 "nbformat": 4,
 "nbformat_minor": 2
}
