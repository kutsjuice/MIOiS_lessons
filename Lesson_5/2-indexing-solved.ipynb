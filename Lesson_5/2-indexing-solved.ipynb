{
 "cells": [
  {
   "cell_type": "markdown",
   "metadata": {},
   "source": [
    "# Индексация\n",
    "## Числовая индексация\n",
    "В Julia индексами чаще всего являются целые числа. Для обращения по заданному индексу используется команда `[]`."
   ]
  },
  {
   "cell_type": "code",
   "execution_count": 72,
   "metadata": {},
   "outputs": [
    {
     "data": {
      "text/plain": [
       "2×4 Matrix{Int64}:\n",
       "  1  8  4  2\n",
       " -4  2  3  5"
      ]
     },
     "metadata": {},
     "output_type": "display_data"
    }
   ],
   "source": [
    "A = [1 8 4 2; \n",
    "     -4 2 3 5]"
   ]
  },
  {
   "cell_type": "markdown",
   "metadata": {},
   "source": [
    "Команда `A[1, 2]` вернёт элемент `A`, который находится в первой строке, во втором столбце.\n",
    "\n"
   ]
  },
  {
   "cell_type": "code",
   "execution_count": 73,
   "metadata": {},
   "outputs": [
    {
     "data": {
      "text/plain": [
       "8"
      ]
     },
     "metadata": {},
     "output_type": "display_data"
    }
   ],
   "source": [
    "A[1, 2]"
   ]
  },
  {
   "cell_type": "markdown",
   "metadata": {},
   "source": [
    "Но индексами могут быть не только целые числа. Допустим, мы хотим обратиться к элементам `A`, стоящим во второй строке в 3 и в 4 столбцах. Тогда в качестве индекса можно использовать вектор `[3, 4]`(аналогичная фича есть в Matlab)."
   ]
  },
  {
   "cell_type": "code",
   "execution_count": 74,
   "metadata": {},
   "outputs": [
    {
     "data": {
      "text/plain": [
       "2-element Vector{Int64}:\n",
       " 3\n",
       " 5"
      ]
     },
     "metadata": {},
     "output_type": "display_data"
    }
   ],
   "source": [
    "A[2, [3, 4]]"
   ]
  },
  {
   "cell_type": "markdown",
   "metadata": {},
   "source": [
    "Также к элементам массива можно обращаться, используя последовательности. Команда `A[2, 1:3]` вернёт элементы матрицы `A` из второй строки из столбцов с 1 по 3."
   ]
  },
  {
   "cell_type": "code",
   "execution_count": 75,
   "metadata": {},
   "outputs": [
    {
     "data": {
      "text/plain": [
       "3-element Vector{Int64}:\n",
       " -4\n",
       "  2\n",
       "  3"
      ]
     },
     "metadata": {},
     "output_type": "display_data"
    }
   ],
   "source": [
    "A[2, 1:3]"
   ]
  },
  {
   "cell_type": "markdown",
   "metadata": {},
   "source": [
    "Можно сочетать вектор и последовательность. Команда `A[2, [1:2; 4]]` вернет элементы из второй строки, из столбцов с первого по второй и из четвёртого."
   ]
  },
  {
   "cell_type": "code",
   "execution_count": 76,
   "metadata": {},
   "outputs": [
    {
     "data": {
      "text/plain": [
       "3-element Vector{Int64}:\n",
       " -4\n",
       "  2\n",
       "  5"
      ]
     },
     "metadata": {},
     "output_type": "display_data"
    }
   ],
   "source": [
    "A[2, [1:2; 4]]"
   ]
  },
  {
   "cell_type": "markdown",
   "metadata": {},
   "source": [
    "## Логическая индексация\n",
    "Помимо чисел и массивов чисел в Julia можно использовать логическую индексацию, её также называют \"маской\". Для того, чтобы её применить, нужно создать массив из логических значений (`false`, `true`), равный по размеру тому массиву, к которому вы хотите его применить. Когда вы применяете маску, выделяются только те элементы, которые соответствуют значению `true` у маски. Для примера рассмотрим маску для матрицы A."
   ]
  },
  {
   "cell_type": "code",
   "execution_count": 85,
   "metadata": {},
   "outputs": [
    {
     "data": {
      "text/plain": [
       "2×4 Matrix{Int64}:\n",
       "  1  8  4  2\n",
       " -4  2  3  5"
      ]
     },
     "metadata": {},
     "output_type": "display_data"
    }
   ],
   "source": [
    "A = [1 8 4 2; \n",
    "     -4 2 3 5]"
   ]
  },
  {
   "cell_type": "markdown",
   "metadata": {},
   "source": [
    "Создадим массив `mask`. Размерность маски должна совпадать с размерностью матрицы."
   ]
  },
  {
   "cell_type": "code",
   "execution_count": 86,
   "metadata": {},
   "outputs": [
    {
     "data": {
      "text/plain": [
       "2×4 Matrix{Bool}:\n",
       " 1  1  0  0\n",
       " 0  1  0  0"
      ]
     },
     "metadata": {},
     "output_type": "display_data"
    }
   ],
   "source": [
    "mask = [true true false false; false true false false]"
   ]
  },
  {
   "cell_type": "markdown",
   "metadata": {},
   "source": [
    "Теперь применим `mask` к `A`"
   ]
  },
  {
   "cell_type": "code",
   "execution_count": 87,
   "metadata": {},
   "outputs": [
    {
     "data": {
      "text/plain": [
       "3-element Vector{Int64}:\n",
       " 1\n",
       " 8\n",
       " 2"
      ]
     },
     "metadata": {},
     "output_type": "display_data"
    }
   ],
   "source": [
    "A[mask]"
   ]
  },
  {
   "cell_type": "markdown",
   "metadata": {},
   "source": [
    "Видно, что выделились те элементы матрицы `A`, которые находились там, где в `mask` находились `true`. Эту индексацию можно использовать, чтобы что-то сделать с элементами матрицы `A`."
   ]
  },
  {
   "cell_type": "code",
   "execution_count": 93,
   "metadata": {},
   "outputs": [
    {
     "data": {
      "text/plain": [
       "2×4 Matrix{Int64}:\n",
       " 42  42  4  2\n",
       " -4  42  3  5"
      ]
     },
     "metadata": {},
     "output_type": "display_data"
    }
   ],
   "source": [
    "A[mask] .= 42;\n",
    "A"
   ]
  },
  {
   "cell_type": "markdown",
   "metadata": {},
   "source": [
    "Как известно из предыдущих уроков, к матрицам с помощью `broadcast` можно применять и логические функции. После такой операции получится новая логическая матрица, размерность которой совпадает с оригинальной! Эти можно пользоваться, например, так:"
   ]
  },
  {
   "cell_type": "code",
   "execution_count": 96,
   "metadata": {},
   "outputs": [
    {
     "data": {
      "text/plain": [
       "5-element Vector{Int64}:\n",
       " 42\n",
       " 42\n",
       " 42\n",
       "  4\n",
       "  5"
      ]
     },
     "metadata": {},
     "output_type": "display_data"
    }
   ],
   "source": [
    "mask = (A .>= 4)\n",
    "A[mask]"
   ]
  },
  {
   "cell_type": "markdown",
   "metadata": {},
   "source": [
    "Что здесь происходило? Сначала мы применяем к `A` операцию `.>=4`, которая создаёт логический массив (точнее, битовый) у которого все значения равны false, кроме тех, которые находятся на местах, где в массиве `A` элемент больше или равняется 4. Затем мы обращаемся к этим элементам с помощью `A[mask]`. То же самое можно выполнить в одну строчку, не используя отдельную переменную."
   ]
  },
  {
   "cell_type": "code",
   "execution_count": 98,
   "metadata": {},
   "outputs": [
    {
     "data": {
      "text/plain": [
       "5-element Vector{Int64}:\n",
       " 42\n",
       " 42\n",
       " 42\n",
       "  4\n",
       "  5"
      ]
     },
     "metadata": {},
     "output_type": "display_data"
    }
   ],
   "source": [
    "A[A .>= 4]"
   ]
  },
  {
   "cell_type": "markdown",
   "metadata": {},
   "source": [
    "### Упражнение 1\n",
    "Задайте матрицу `A`, размером 100х100. Элементы в первых 50 столбцах и в столбцах с 75 по 80 должны быть равны 1. В остальных столбцах в строках с 20 по 30 должны находится 2, а в строках 71, 75, 79 должны находится 3. Остальные элементы должны быть равны 0."
   ]
  },
  {
   "cell_type": "code",
   "execution_count": 80,
   "metadata": {},
   "outputs": [],
   "source": [
    "A = Matrix{Int64}(undef, 100, 100);"
   ]
  },
  {
   "cell_type": "code",
   "execution_count": 81,
   "metadata": {},
   "outputs": [],
   "source": [
    "A = Matrix{Int64}(undef, 100, 100);\n",
    "A[:, :] .= 0;\n",
    "A[:, [1:50; 75:80]] .= 1;\n",
    "A[20:30, [51:74; 81:end]] .= 2;\n",
    "A[[71, 75, 79], [51:74; 81:end]] .= 3;"
   ]
  },
  {
   "cell_type": "code",
   "execution_count": 82,
   "metadata": {},
   "outputs": [],
   "source": [
    "@assert all(A[[1, 5, 76], [1, 5, 76]] .== 1)\n",
    "@assert all(A[20:25, 56:65] .== 2)\n",
    "@assert all(A[71, [55;56]] .== 3)"
   ]
  },
  {
   "cell_type": "markdown",
   "metadata": {},
   "source": [
    "### Упражнение 2\n",
    "Задайте матрицу A 20x20, состоящую из случайных целых чисел от 8 до 25. Используя логическую индексацию, все чётные элементы в этой матрице уменьшите в 2 раза (целочисленным делением). Все элементы, большие 20 задайте равными 0. В VisualStudio Code, если наведёте мышкой на функцию rand, то получите подсказку, как она работает."
   ]
  },
  {
   "cell_type": "code",
   "execution_count": 83,
   "metadata": {},
   "outputs": [
    {
     "data": {
      "text/plain": [
       "0.34563732940284864"
      ]
     },
     "metadata": {},
     "output_type": "display_data"
    }
   ],
   "source": [
    "A = rand()"
   ]
  },
  {
   "cell_type": "code",
   "execution_count": 84,
   "metadata": {},
   "outputs": [
    {
     "data": {
      "text/plain": [
       "20×20 Matrix{Int64}:\n",
       " 12   6  13   9  19  10   0   6   6  …  11  10   0  17  10   0  10   0   4\n",
       "  6   0   8   8   0   0  10  15   6     17  11   9   7   5   7   9   6  11\n",
       "  0   0  13   9   8  19   5   9  11      4   4   5   5   8  11   6   4  17\n",
       "  6   0   9   0  10  10   0  10   5      8  17   0   7   9  15  15  11  11\n",
       " 11  10   6   0  12  11  12  15  13      8   6  13   0  13  19  13   0   7\n",
       "  8  15   8   5  11   9   7  11   9  …   0   5  10   8   9  12  13   0   5\n",
       "  5  15  17   9  11   7  13   0   7     11   0  13   9   4   6   6  11  11\n",
       "  7   5   9   9   0   0   0   8   9     15  13  17  11  10  15  17   7  11\n",
       "  0  10   4   9  12  11   8  11   4      9   8   0  17  17  12  13  17   0\n",
       " 10  11   0   8   8  15  10  11  10     11  17  19   6   0   9  10  13  11\n",
       "  4   9   7   0   6   5   9   8  12  …   0  10   5   8   5   7  15   5   9\n",
       "  9   7  17   7  13  11   0  10   0     19   0   0  17   5   0   4   0   4\n",
       " 11  11  19   0   9   8   7   8  13      7   4   0   6   9   9   9   8  13\n",
       " 11  11   0  17  15   9   8   0   7     11   9  17  15  10  11  12  10  13\n",
       "  0  12   0   7   9   8   0   0   0      4   4   5  10   8  19   8  19   0\n",
       "  0   6  11  13  10  13   8   7  11  …  13   0   0  17  13   9   0   4   4\n",
       " 11  13   9  12   0   8  15  19  10      5   4  19   5  10   9  19   9  12\n",
       "  0  10  13   8  19  15  10  11   5     11  17  15  13  11   7  13  12  13\n",
       "  7  11  17   7  13  11   4   8  11     10   0  10   0  17  11   0   9   9\n",
       "  5  11   9  15  11  13   9   5   5     11   7   6  17   9   9  12   5   0"
      ]
     },
     "metadata": {},
     "output_type": "display_data"
    }
   ],
   "source": [
    "A = rand(8:25, 20, 20);\n",
    "A[A .% 2 .== 0] .÷= 2;\n",
    "A[A .> 20] .= 0;\n",
    "A"
   ]
  }
 ],
 "metadata": {
  "kernelspec": {
   "display_name": "Julia 1.8.2",
   "language": "julia",
   "name": "julia-1.8"
  },
  "language_info": {
   "file_extension": ".jl",
   "mimetype": "application/julia",
   "name": "julia",
   "version": "1.8.2"
  },
  "orig_nbformat": 4
 },
 "nbformat": 4,
 "nbformat_minor": 2
}
