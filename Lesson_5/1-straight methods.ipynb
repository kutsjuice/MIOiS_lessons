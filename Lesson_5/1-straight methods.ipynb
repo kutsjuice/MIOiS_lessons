{
 "cells": [
  {
   "cell_type": "markdown",
   "metadata": {},
   "source": [
    "# Решение СЛАУ прямыми методами\n",
    "Системы линейных алгебраических уравнений выглядят так:\n",
    "$$\n",
    " \\left\n",
    "\\{\\begin{gathered}\n",
    "a_{11}x_1 + a_{12}x_2 + \\dots + a_{1n}x_n = b_1 \\\\\n",
    "a_{21}x_1 + a_{22}x_2 + \\dots + a_{2n}x_n = b_2 \\\\\n",
    "\\cdots \\\\\n",
    "a_{n1}x_1 + a_{n2}x_2 + \\dots + a_{nn}x_n = b_n \\\\\n",
    "\\end{gathered}\n",
    "\\right.,\n",
    "$$\n",
    "где $x_1 \\dots x_n$ – неизвестные, $a_1 \\dots a_n$ – коэффициенты, $b_1 \\dots b_n$ – свободные члены.\n",
    "\n",
    "СЛАУ можно записать в матричном виде:\n",
    "$$\n",
    "\\begin{bmatrix}\n",
    "        a_{11} & a_{12} & \\ldots & a_{1n} \\\\\n",
    "        a_{21} & a_{22} & \\ldots & a_{2n} \\\\\n",
    "        \\vdots & \\vdots & \\ddots & \\vdots \\\\\n",
    "        a_{n1} & a_{n2} & \\ldots & a_{nn} \\\\ \n",
    "\\end{bmatrix}\n",
    "\\begin{bmatrix}\n",
    "        x_1 \\\\\n",
    "        x_2 \\\\\n",
    "        \\vdots \\\\\n",
    "        x_n\\\\\n",
    "\\end{bmatrix}\n",
    "=\n",
    "\\begin{bmatrix}\n",
    "        b_1 \\\\\n",
    "        b_2 \\\\\n",
    "        \\vdots \\\\\n",
    "        b_n\\\\\n",
    "\\end{bmatrix},\n",
    "$$\n",
    "или, если коротко:\n",
    "$$\n",
    "\\mathbf{AX=B}.\n",
    "$$,\n",
    "где $\\mathbf{A}$ – матрица коэффициентов (матрица системы), $\\mathbf{X}$ – вектор неизвестных, $\\mathbf{B}$ – вектор свободных членов."
   ]
  },
  {
   "cell_type": "markdown",
   "metadata": {},
   "source": [
    "Напоминаем, что в языке Julia вектор можно задать с помощью символов `[]`, отделяя элементы запятой. Например:"
   ]
  },
  {
   "cell_type": "code",
   "execution_count": 3,
   "metadata": {},
   "outputs": [
    {
     "data": {
      "text/plain": [
       "3-element Vector{Float64}:\n",
       " 1.0\n",
       " 0.5\n",
       " 4.0"
      ]
     },
     "metadata": {},
     "output_type": "display_data"
    }
   ],
   "source": [
    "b_1 = [1, 0.5, 4]"
   ]
  },
  {
   "cell_type": "markdown",
   "metadata": {},
   "source": [
    "Матрицу можно задать той же командой, отделяя элементы в строке пробелом, а в столбце символом `;`."
   ]
  },
  {
   "cell_type": "code",
   "execution_count": 4,
   "metadata": {},
   "outputs": [
    {
     "data": {
      "text/plain": [
       "3×3 Matrix{Int64}:\n",
       " 1  -2   4\n",
       " 2   5  -1\n",
       " 4   8  -2"
      ]
     },
     "metadata": {},
     "output_type": "display_data"
    }
   ],
   "source": [
    "A = [1 -2 4;\n",
    "     2 5 -1;\n",
    "     4 8 -2]"
   ]
  },
  {
   "cell_type": "markdown",
   "metadata": {},
   "source": [
    "В Julia есть специальная команда для решения СЛАУ – обратное деление `\\`. Пример использования ниже:"
   ]
  },
  {
   "cell_type": "code",
   "execution_count": 17,
   "metadata": {},
   "outputs": [
    {
     "data": {
      "text/plain": [
       "2-element Vector{Float64}:\n",
       " 32.0\n",
       " 18.0"
      ]
     },
     "metadata": {},
     "output_type": "display_data"
    }
   ],
   "source": [
    "A = [1 0; 1 -2]; \n",
    "B = [32, -4];\n",
    "X = A \\ B"
   ]
  },
  {
   "cell_type": "code",
   "execution_count": 10,
   "metadata": {},
   "outputs": [
    {
     "data": {
      "text/plain": [
       "true"
      ]
     },
     "metadata": {},
     "output_type": "display_data"
    }
   ],
   "source": [
    "A*X == B"
   ]
  },
  {
   "cell_type": "markdown",
   "metadata": {},
   "source": [
    "Несмотря на то, что Julia есть эта команда, она не всегда эффективно решает СЛАУ, поэтому пока мы будем использовать её только для проверки решений. Мы изучим различные методы решения СЛАУ. Эти методы можно разделить на *прямые* и *итерационные*.\n",
    "\n",
    "В прямых методах ищется точное решение СЛАУ. В итерационных методах применяется некоторый повторяющийся процесс, который, с каждым новым применением, даёт всё более точное решение.\n",
    "\n",
    "К прямым методам относятся:\n",
    "1. Метод Крамера\n",
    "2. Матричный\n",
    "3. Метод Гаусса\n",
    "\n",
    "и др.\n",
    "\n",
    "Далее разберём метод Гаусса. Он состоит из двух частей: *прямого* хода и *обратного*.\n",
    "\n",
    "## Метод Гаусса\n",
    "### Прямой ход\n",
    "При прямом ходе матрицу $\\mathbf{A}$ приводят к верхнетреугольному виду. Для этого из второго уравнения системы вычитают первое, умноженное на коэффициент $\\cfrac{a_{21}}{a_{11}}$. Аналогичную процедуру проводят для всех уравнений (строк матрицы). В итоге получим, что все коэффициенты при $x_1$, кроме первого будут равны нулю. Полученная система будет иметь вид:\n",
    "\n",
    "$$\n",
    " \\left\n",
    "\\{\\begin{gathered}\n",
    "a_{11}x_1 + a_{12}x_2 + \\dots + a_{1n}x_n = b_1 \\\\\n",
    "0 + a_{22}x_2 + \\dots + a_{2n}x_n = b_2^{(1)} \\\\\n",
    "\\cdots \\\\\n",
    "0 + a_{n2}x_2 + \\dots + a_{nn}x_n = b_n^{(1)} \\\\\n",
    "\\end{gathered}\n",
    "\\right..\n",
    "$$\n",
    "\n",
    "Далее из третьего уравнения системы вычитают второе, умноженное на коэффициент $\\cfrac{a_{32}}{a_{22}}$, и то же самое делают для всех оставшихся строк. В результате получим следующий вид СЛАУ:\n",
    "\n",
    "$$\n",
    " \\left\n",
    "\\{\\begin{gathered}\n",
    "a_{11}x_1 + a_{12}x_2 + a_{13}x_3 + \\dots + a_{1n}x_n = b_1 \\\\\n",
    "0 + a_{22}x_2 + a_{23}x_2  + \\dots + a_{2n}x_n = b_2^{(1)} \\\\\n",
    "0 + 0 + a_{33}x_3  + \\dots + a_{3n}x_n = b_3^{(2)} \\\\\n",
    "\\cdots \\\\\n",
    "0 + 0 + a_{n3}x_3 + \\dots + a_{nn}x_n = b_n^{(2)} \\\\\n",
    "\\end{gathered}\n",
    "\\right.,\n",
    "$$\n",
    "\n",
    "и так далее до тех пор, пока не придём к верхне-треугольному виду:\n",
    "\n",
    "$$\n",
    " \\left\n",
    "\\{\\begin{gathered}\n",
    "a_{11}x_1 + a_{12}x_2 + a_{13}x_3 + \\dots + a_{1n}x_n = b_1 \\\\\n",
    "0 + a_{22}x_2 + a_{23}x_2  + \\dots + a_{2n}x_n = b_2^{(1)} \\\\\n",
    "0 + 0 + a_{33}x_3  + \\dots + a_{3n}x_n = b_3^{(2)} \\\\\n",
    "\\cdots \\\\\n",
    "0 + 0 + 0 + \\dots + a_{nn}x_n = b_n^{(n-1)} \\\\\n",
    "\\end{gathered}\n",
    "\\right..\n",
    "$$\n",
    "\n",
    "Если записать, в матричном виде:\n",
    "$$\n",
    "\\begin{bmatrix}\n",
    "        a_{11} & a_{12} & \\ldots & a_{1n} \\\\\n",
    "        0 & a_{22} & \\ldots & a_{2n} \\\\\n",
    "        \\vdots & \\vdots & \\ddots & \\vdots \\\\\n",
    "        0 & 0 & \\ldots & a_{nn} \\\\ \n",
    "\\end{bmatrix}\n",
    "\\begin{bmatrix}\n",
    "        x_1 \\\\\n",
    "        x_2 \\\\\n",
    "        \\vdots \\\\\n",
    "        x_n\\\\\n",
    "\\end{bmatrix}\n",
    "=\n",
    "\\begin{bmatrix}\n",
    "        b_1 \\\\\n",
    "        b_2^{(1)} \\\\\n",
    "        \\vdots \\\\\n",
    "        b_n^{(n)}\\\\\n",
    "\\end{bmatrix}\n",
    ".\n",
    "$$\n",
    "\n",
    "Рассмотрим на примере, как привести к верхне-треугольному виду СЛАУ\n",
    "$$\n",
    "\\left\\{\\begin{array}{ccc}2x + y - z &=& 8 \\\\\n",
    "-3x - y + 2z &=& -11 \\\\\n",
    "-2x + y + 2z &=& -3 \\end{array}\\right.,\n",
    "$$\n",
    "используя средства Julia. Зададим матрицу системы `A` и вектор свободных членов `B`."
   ]
  },
  {
   "cell_type": "code",
   "execution_count": 34,
   "metadata": {},
   "outputs": [
    {
     "data": {
      "text/plain": [
       "3×3 Matrix{Float64}:\n",
       "  2.0   1.0  -1.0\n",
       " -3.0  -1.0   2.0\n",
       " -2.0   1.0   2.0"
      ]
     },
     "metadata": {},
     "output_type": "display_data"
    }
   ],
   "source": [
    "A = Float64.([2 1 -1;\n",
    "              -3 -1 2;\n",
    "              -2 1 2])"
   ]
  },
  {
   "cell_type": "code",
   "execution_count": 33,
   "metadata": {},
   "outputs": [
    {
     "data": {
      "text/plain": [
       "3-element Vector{Float64}:\n",
       "   8.0\n",
       " -11.0\n",
       "  -3.0"
      ]
     },
     "metadata": {},
     "output_type": "display_data"
    }
   ],
   "source": [
    "B = Float64.([8, -11, -3])"
   ]
  },
  {
   "cell_type": "markdown",
   "metadata": {},
   "source": [
    "Создадим *присоединённую* матрицу (матрицу, состоящую из из матрицы `A`, к которой справа присоединили вектор `B`). Её удобно использовать, чтобы не производить отдельно операции с B."
   ]
  },
  {
   "cell_type": "code",
   "execution_count": 58,
   "metadata": {},
   "outputs": [
    {
     "data": {
      "text/plain": [
       "3×4 Matrix{Float64}:\n",
       "  2.0   1.0  -1.0    8.0\n",
       " -3.0  -1.0   2.0  -11.0\n",
       " -2.0   1.0   2.0   -3.0"
      ]
     },
     "metadata": {},
     "output_type": "display_data"
    }
   ],
   "source": [
    "A_pr = [A B]"
   ]
  },
  {
   "cell_type": "markdown",
   "metadata": {},
   "source": [
    "Далее, вычтем из второй строки первую, умноженную на $\\cfrac{a_{21}}{a_{11}}$. Для этого используем срезы."
   ]
  },
  {
   "cell_type": "code",
   "execution_count": 59,
   "metadata": {},
   "outputs": [
    {
     "data": {
      "text/plain": [
       "3×4 Matrix{Float64}:\n",
       "  2.0  1.0  -1.0   8.0\n",
       "  0.0  0.5   0.5   1.0\n",
       " -2.0  1.0   2.0  -3.0"
      ]
     },
     "metadata": {},
     "output_type": "display_data"
    }
   ],
   "source": [
    "A_pr[2, :] -= A_pr[1, :] * A_pr[2,1] / A_pr[1,1];\n",
    "A_pr"
   ]
  },
  {
   "cell_type": "markdown",
   "metadata": {},
   "source": [
    "Проделаем аналогичную операцию для третьей строки."
   ]
  },
  {
   "cell_type": "code",
   "execution_count": 60,
   "metadata": {},
   "outputs": [
    {
     "data": {
      "text/plain": [
       "3×4 Matrix{Float64}:\n",
       " 2.0  1.0  -1.0  8.0\n",
       " 0.0  0.5   0.5  1.0\n",
       " 0.0  2.0   1.0  5.0"
      ]
     },
     "metadata": {},
     "output_type": "display_data"
    }
   ],
   "source": [
    "A_pr[3, :] -= A_pr[1, :] * A_pr[3,1] / A_pr[1,1];\n",
    "A_pr"
   ]
  },
  {
   "cell_type": "markdown",
   "metadata": {},
   "source": [
    "Теперь первый столбец заполнен нулями, кроме самого первого элемента. Повторим со вторым столбцом, потребуется вычесть вторую строку всего 1 раз."
   ]
  },
  {
   "cell_type": "code",
   "execution_count": 61,
   "metadata": {},
   "outputs": [
    {
     "data": {
      "text/plain": [
       "3×4 Matrix{Float64}:\n",
       " 2.0  1.0  -1.0  8.0\n",
       " 0.0  0.5   0.5  1.0\n",
       " 0.0  0.0  -1.0  1.0"
      ]
     },
     "metadata": {},
     "output_type": "display_data"
    }
   ],
   "source": [
    "A_pr[3, :] -= A_pr[2, :] * A_pr[3,2] / A_pr[2,2];\n",
    "A_pr"
   ]
  },
  {
   "cell_type": "markdown",
   "metadata": {},
   "source": [
    "### Обратный ход\n",
    "После прямого хода необходимо выполнить обратный ход, чтобы найти вектор неизвестных. Последний элемент этого вектора - $x_n$ легко найти из последней строки:\n",
    "$$\n",
    "x_n = \\cfrac{b_n^{(n-1)}}{a_{nn}}.\n",
    "$$\n",
    "Соответсвенно, следующий неизвестный элемент можно найти, подставив $x_n$ в предпоследнее уравнение:\n",
    "$$\n",
    "x_{n-1} = \\cfrac{b_n^{(n-2)}-a_{n-1 n}x_n}{a_{n-1  n-1}},\n",
    "$$\n",
    "и так далее. \n",
    "\n",
    "Рассмотрим продолжение примера и решим приведённую к треугольному виду СЛАУ. Зададимся вектором неизвестных `X`."
   ]
  },
  {
   "cell_type": "code",
   "execution_count": 64,
   "metadata": {},
   "outputs": [
    {
     "data": {
      "text/plain": [
       "3-element Vector{Float64}:\n",
       " 8.1498215e-316\n",
       " 1.61328267e-315\n",
       " 2.1219957915e-314"
      ]
     },
     "metadata": {},
     "output_type": "display_data"
    }
   ],
   "source": [
    "X = Vector{Float64}(undef, 3)"
   ]
  },
  {
   "cell_type": "markdown",
   "metadata": {},
   "source": [
    "Для удобства разделим присоединённую матрицу:"
   ]
  },
  {
   "cell_type": "code",
   "execution_count": 69,
   "metadata": {},
   "outputs": [
    {
     "data": {
      "text/plain": [
       "3-element Vector{Float64}:\n",
       " 8.0\n",
       " 1.0\n",
       " 1.0"
      ]
     },
     "metadata": {},
     "output_type": "display_data"
    }
   ],
   "source": [
    "A = A_pr[1:3,1:3];\n",
    "B = A_pr[1:3, 4];"
   ]
  },
  {
   "cell_type": "markdown",
   "metadata": {},
   "source": [
    "Присвоим значение в последний элемент вектора `X`. Для последнего элемента можно использовать индекс `end`"
   ]
  },
  {
   "cell_type": "code",
   "execution_count": 70,
   "metadata": {},
   "outputs": [
    {
     "data": {
      "text/plain": [
       "-1.0"
      ]
     },
     "metadata": {},
     "output_type": "display_data"
    }
   ],
   "source": [
    "X[end] = B[end]/A[end,end]"
   ]
  },
  {
   "cell_type": "markdown",
   "metadata": {},
   "source": [
    "Далее занесём значение в предпоследний элемент `X`:"
   ]
  },
  {
   "cell_type": "code",
   "execution_count": 75,
   "metadata": {},
   "outputs": [
    {
     "data": {
      "text/plain": [
       "3.0"
      ]
     },
     "metadata": {},
     "output_type": "display_data"
    }
   ],
   "source": [
    "X[end-1] = (B[end-1] - A[end-1, end] * X[end]) / A[end-1, end-1]"
   ]
  },
  {
   "cell_type": "markdown",
   "metadata": {},
   "source": [
    "Осталось найти последний элемент. Для простоты используем `broadcast` и функцию `sum()`:"
   ]
  },
  {
   "cell_type": "code",
   "execution_count": 78,
   "metadata": {},
   "outputs": [
    {
     "data": {
      "text/plain": [
       "3-element Vector{Float64}:\n",
       "  2.0\n",
       "  3.0\n",
       " -1.0"
      ]
     },
     "metadata": {},
     "output_type": "display_data"
    }
   ],
   "source": [
    "X[end-2] = (B[end-2] - sum(A[end-2, end-1:end] .* X[end-1:end]))/A[end-2, end-2];\n",
    "X"
   ]
  },
  {
   "cell_type": "markdown",
   "metadata": {},
   "source": [
    "Проверяем:"
   ]
  },
  {
   "cell_type": "code",
   "execution_count": 79,
   "metadata": {},
   "outputs": [
    {
     "data": {
      "text/plain": [
       "true"
      ]
     },
     "metadata": {},
     "output_type": "display_data"
    }
   ],
   "source": [
    "A\\B == X"
   ]
  },
  {
   "cell_type": "markdown",
   "metadata": {},
   "source": [
    "### Упражнение 1\n",
    "Создать функцию `uptri(M::AbstractMatrix)`, которая из заданной матрицы делает верхнетреугольную."
   ]
  },
  {
   "cell_type": "code",
   "execution_count": 83,
   "metadata": {},
   "outputs": [
    {
     "data": {
      "text/plain": [
       "uptri (generic function with 1 method)"
      ]
     },
     "metadata": {},
     "output_type": "display_data"
    }
   ],
   "source": [
    "function uptri(M::AbstractMatrix)\n",
    "    \n",
    "    # сначала скопируйте матрицу в отдельную переменную А, чтобы не изменять исходную матрицу\n",
    "\n",
    "    \n",
    "    # желательно узнать число строк матрицы. Это можно сделать с помощью команды size(M)\n",
    "\n",
    "    \n",
    "    # здесь задайте основной цикл. Из каждой строчки надо вычесть i-ю, умноженную на соответствующий коэффициент\n",
    "    \n",
    "    # Верните матрицу A\n",
    "    return A\n",
    "end"
   ]
  },
  {
   "cell_type": "code",
   "execution_count": 120,
   "metadata": {},
   "outputs": [
    {
     "data": {
      "text/plain": [
       "uptri (generic function with 1 method)"
      ]
     },
     "metadata": {},
     "output_type": "display_data"
    }
   ],
   "source": [
    "function uptri(M::AbstractMatrix)\n",
    "    A = copy(M)\n",
    "    n = size(A)[1]\n",
    "    for i in 1:n-1\n",
    "        for j in i+1:n\n",
    "            A[j, :] .-= A[i, :] / A[i, i] * A[j, i]\n",
    "        end\n",
    "    end\n",
    "    return A\n",
    "end"
   ]
  },
  {
   "cell_type": "markdown",
   "metadata": {},
   "source": [
    "### Упражнение 2\n",
    "Создать функцию `gauss(A::AbstractMatrix,B::AbstractVector)::Vector{Float64}`, которая находит решение СЛАУ с матрицей `A` и вектором `B` методом Гаусса. Можно использовать уже имеющуюся функцию `uptri`."
   ]
  },
  {
   "cell_type": "code",
   "execution_count": null,
   "metadata": {},
   "outputs": [],
   "source": [
    "function gauss(A::AbstractMatrix, B::AbstractVector)::Vector{Float64}\n",
    "    \n",
    "    # желательно узнать число строк матрицы. Это можно сделать с помощью команды size(A)\n",
    "\n",
    "\n",
    "    # Задайте заранее вектор X\n",
    "\n",
    "\n",
    "    # С помощью функции uptri сделайте прямой ход для присоединённой матрицы\n",
    "\n",
    "\n",
    "    # Разделите полученную матрицу на матрицы A и B\n",
    "\n",
    "    \n",
    "    # Посчитайте X[n]\n",
    "\n",
    "    \n",
    "    # Сделайте цикл обратного хода для i от (n-1) до 1\n",
    "\n",
    "    \n",
    "    # Верните вектор X\n",
    "end"
   ]
  },
  {
   "cell_type": "code",
   "execution_count": 169,
   "metadata": {},
   "outputs": [
    {
     "data": {
      "text/plain": [
       "gauss (generic function with 1 method)"
      ]
     },
     "metadata": {},
     "output_type": "display_data"
    }
   ],
   "source": [
    "function gauss(A::AbstractMatrix, B::AbstractVector)::Vector{Float64}\n",
    "    n = size(A)[1]\n",
    "    X = zeros(Float64, n)\n",
    "    \n",
    "    A_pr = uptri([A B])\n",
    "    A_new = A_pr[1:end, 1:end-1]\n",
    "    B_new = A_pr[1:end, end]\n",
    "    \n",
    "    X[n] = B_new[n]/A_new[n, n]\n",
    "    for i in n-1:-1:1\n",
    "        X[i] = (B_new[i] - sum(A_new[i, i+1:n] .* X[i+1:n]))/A_new[i,i]\n",
    "    end\n",
    "    return X\n",
    "end"
   ]
  }
 ],
 "metadata": {
  "kernelspec": {
   "display_name": "Julia 1.8.2",
   "language": "julia",
   "name": "julia-1.8"
  },
  "language_info": {
   "file_extension": ".jl",
   "mimetype": "application/julia",
   "name": "julia",
   "version": "1.8.2"
  },
  "orig_nbformat": 4
 },
 "nbformat": 4,
 "nbformat_minor": 2
}
